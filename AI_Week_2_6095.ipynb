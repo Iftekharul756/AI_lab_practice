{
  "nbformat": 4,
  "nbformat_minor": 0,
  "metadata": {
    "colab": {
      "provenance": [],
      "authorship_tag": "ABX9TyNS2Asupp81lH8nKvpEPRK3",
      "include_colab_link": true
    },
    "kernelspec": {
      "name": "python3",
      "display_name": "Python 3"
    },
    "language_info": {
      "name": "python"
    }
  },
  "cells": [
    {
      "cell_type": "markdown",
      "metadata": {
        "id": "view-in-github",
        "colab_type": "text"
      },
      "source": [
        "<a href=\"https://colab.research.google.com/github/Iftekharul756/AI_lab_practice/blob/main/AI_Week_2_6095.ipynb\" target=\"_parent\"><img src=\"https://colab.research.google.com/assets/colab-badge.svg\" alt=\"Open In Colab\"/></a>"
      ]
    },
    {
      "cell_type": "markdown",
      "source": [
        "# Breadth First Search (BFS)\n",
        "A Path Searching algorithm.\n",
        "Follows uninformed search(rule based approach : Root -> Left -> Right)\n",
        "Dont need any previous information.\n",
        "No unility cost calculation needed.\n",
        "Used for priority and semantic analysis."
      ],
      "metadata": {
        "id": "e5OlsPkrhA-O"
      }
    },
    {
      "cell_type": "markdown",
      "source": [
        "graph = []\n",
        "visited = []\n",
        "queue = []\n",
        "\n",
        "def bfs(graph,queue,node):\n",
        "  visited.append()\n",
        "  queue.append()\n",
        "  "
      ],
      "metadata": {
        "id": "bCBFPKqWmaCP"
      }
    },
    {
      "cell_type": "code",
      "source": [
        "graph = {\n",
        "    '5' : ['3','7'],\n",
        "    '3' : ['2','4'],\n",
        "    '7' : ['8'],\n",
        "    '2' : [],\n",
        "    '4' : ['8'],\n",
        "    '8' : []\n",
        "}\n",
        "visited = []\n",
        "queue = []"
      ],
      "metadata": {
        "id": "VVwNwprChLSm"
      },
      "execution_count": null,
      "outputs": []
    },
    {
      "cell_type": "code",
      "source": [
        "def bfs(visited,graph,node):\n",
        "  visited.append(node)\n",
        "  queue.append(node)\n",
        "  while queue:\n",
        "    m = queue.pop(0)\n",
        "    print(m,end=\" \")\n",
        "    for neighbour in graph[m]:\n",
        "      if neighbour not in visited:\n",
        "        visited.append(neighbour)\n",
        "        queue.append(neighbour)"
      ],
      "metadata": {
        "id": "YH5dDmmznlfH"
      },
      "execution_count": null,
      "outputs": []
    },
    {
      "cell_type": "code",
      "source": [
        "print(\"Following is the Breadth First Search\")\n",
        "bfs(visited,graph,'5')"
      ],
      "metadata": {
        "colab": {
          "base_uri": "https://localhost:8080/"
        },
        "id": "5dCRxjwppDKH",
        "outputId": "600fc736-6fe7-4d25-de1e-e9b7c374f201"
      },
      "execution_count": null,
      "outputs": [
        {
          "output_type": "stream",
          "name": "stdout",
          "text": [
            "Following is the Breadth First Search\n",
            "5 3 7 2 4 8 "
          ]
        }
      ]
    },
    {
      "cell_type": "markdown",
      "source": [
        "Suppose Alice have a country land car parking company where people can hire car for hiking . Now cars are occupied by the different state depending on the weather .Now appply BFS to find out the priority of available cars with connected Roots on the given dataset.\n",
        "\n",
        "DATASET : cars : Car1 to car6\n",
        "weather : car4 is occupieed for 4hour for NY and CA city and rest of the cars are are for 1 hour\n",
        "city : Boston,CA,Mexico,NY,Kansas,AB"
      ],
      "metadata": {
        "id": "XR7Y-262pfcQ"
      }
    },
    {
      "cell_type": "code",
      "source": [
        "\n",
        "occupied = {\n",
        "    'Car1': 1,\n",
        "    'Car2': 1,\n",
        "    'Car3': 1,\n",
        "    'Car4': 4,\n",
        "    'Car5': 1,\n",
        "    'Car6': 1\n",
        "}"
      ],
      "metadata": {
        "id": "mYdYG9FmrmtX"
      },
      "execution_count": null,
      "outputs": []
    },
    {
      "cell_type": "code",
      "source": [
        "\n",
        "graph = {\n",
        "    'Car1': ['Boston'],\n",
        "    'Car2': ['Kansas'],\n",
        "    'Car3': ['Mexico'],\n",
        "    'Car4': ['NY', 'CA'],\n",
        "    'Car5': ['AB'],\n",
        "    'Car6': ['CA'],\n",
        "    'Boston': ['Kansas'],\n",
        "    'Kansas': ['Mexico'],\n",
        "    'Mexico': ['NY'],\n",
        "    'NY': ['CA'],\n",
        "    'CA': ['AB'],\n",
        "    'AB': []\n",
        "}\n",
        "\n",
        "visited = []\n",
        "queue = []"
      ],
      "metadata": {
        "id": "zE6-dSSqsiXg"
      },
      "execution_count": null,
      "outputs": []
    },
    {
      "cell_type": "code",
      "source": [
        "def bfs(visited, graph, node):\n",
        "    visited.append(node)\n",
        "    queue.append(node)\n",
        "\n",
        "    while queue:\n",
        "        m = queue.pop(0)\n",
        "        print(m, end=\" \")\n",
        "        for neighbour in graph[m]:\n",
        "            if neighbour not in visited:\n",
        "                visited.append(neighbour)\n",
        "                queue.append(neighbour)"
      ],
      "metadata": {
        "id": "lExKaBRbsl4_"
      },
      "execution_count": null,
      "outputs": []
    },
    {
      "cell_type": "code",
      "source": [
        "print(\"Following is the Breadth First Search\")\n",
        "bfs(visited, graph, 'Car1')"
      ],
      "metadata": {
        "colab": {
          "base_uri": "https://localhost:8080/"
        },
        "id": "U8abEOK_sodH",
        "outputId": "d1fae873-d894-43ad-b097-969cdde30145"
      },
      "execution_count": null,
      "outputs": [
        {
          "output_type": "stream",
          "name": "stdout",
          "text": [
            "Following is the Breadth First Search\n",
            "Car1 "
          ]
        }
      ]
    }
  ]
}