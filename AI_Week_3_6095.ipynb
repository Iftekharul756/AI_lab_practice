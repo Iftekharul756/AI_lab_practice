{
  "nbformat": 4,
  "nbformat_minor": 0,
  "metadata": {
    "colab": {
      "provenance": [],
      "authorship_tag": "ABX9TyOITpxeVcl+1HrPf9Si/PO/",
      "include_colab_link": true
    },
    "kernelspec": {
      "name": "python3",
      "display_name": "Python 3"
    },
    "language_info": {
      "name": "python"
    }
  },
  "cells": [
    {
      "cell_type": "markdown",
      "metadata": {
        "id": "view-in-github",
        "colab_type": "text"
      },
      "source": [
        "<a href=\"https://colab.research.google.com/github/Iftekharul756/AI_lab_practice/blob/main/AI_Week_3_6095.ipynb\" target=\"_parent\"><img src=\"https://colab.research.google.com/assets/colab-badge.svg\" alt=\"Open In Colab\"/></a>"
      ]
    },
    {
      "cell_type": "markdown",
      "source": [
        "***DFS***"
      ],
      "metadata": {
        "id": "h4KQnRiCiWnx"
      }
    },
    {
      "cell_type": "markdown",
      "source": [
        "**Depth : left -> right -> root**\n",
        "Fird check left side then right side."
      ],
      "metadata": {
        "id": "EZiimuxPkWaR"
      }
    },
    {
      "cell_type": "code",
      "source": [
        "graph = {\n",
        "    '5' : ['3','7'],\n",
        "    '3' : ['2','4'],\n",
        "    '7' : ['8'],\n",
        "    '2' : [],\n",
        "    '4' : ['8'],\n",
        "    '8' : []\n",
        "}"
      ],
      "metadata": {
        "id": "83b5AIyvocSw"
      },
      "execution_count": 3,
      "outputs": []
    },
    {
      "cell_type": "code",
      "source": [
        "def dfs_iterative(graph,start_node):\n",
        "  visited=set() # Set to track visited node\n",
        "  stack=[start_node] # using a stack to simulate recursion\n",
        "  while stack:\n",
        "    node = stack.pop() # Remove the last added element (LIFO)\n",
        "    if node not in visited:\n",
        "      print(node) # process the node\n",
        "      visited.add(node)\n",
        "      # Add neighbours to the stack in reverse order to maintain order\n",
        "      stack.extend(graph[node])\n",
        "\n",
        "# Driver Code\n",
        "print(\"Following is the Depth-First Search (Iterative):\")\n",
        "dfs_iterative(graph,'5')"
      ],
      "metadata": {
        "colab": {
          "base_uri": "https://localhost:8080/"
        },
        "id": "9QtT6-Txo5gf",
        "outputId": "e1a7102b-1555-4b55-c510-4352233a4de3"
      },
      "execution_count": 5,
      "outputs": [
        {
          "output_type": "stream",
          "name": "stdout",
          "text": [
            "Following is the Depth-First Search (Iterative):\n",
            "5\n",
            "7\n",
            "8\n",
            "3\n",
            "4\n",
            "2\n"
          ]
        }
      ]
    },
    {
      "cell_type": "markdown",
      "source": [
        "*** Water Jug Problem ***"
      ],
      "metadata": {
        "id": "eG4_QSDrqxUo"
      }
    },
    {
      "cell_type": "code",
      "source": [
        "from collections import defaultdict\n",
        "\n",
        "jug1, jug2, target = 4, 3, 2\n",
        "\n",
        "visited = defaultdict(lambda: False)\n",
        "\n",
        "def water_jug_problem(amt1, amt2):\n",
        "    \"\"\"\n",
        "    Recursive function to solve the water jug problem using DFS with backtrack\n",
        "    \"\"\"\n",
        "\n",
        "    if (amt1 == target and amt2 == 0) or (amt2 == target and amt1 == 0):\n",
        "        print(f\"Goal state reached: ({amt1}, {amt2})\")\n",
        "        return True\n",
        "\n",
        "    if not visited[(amt1, amt2)]:\n",
        "        print(f\"Current state: ({amt1}, {amt2})\")\n",
        "        visited[(amt1, amt2)] = True\n",
        "\n",
        "        return (\n",
        "            water_jug_problem(0, amt2) or\n",
        "            water_jug_problem(amt1, 0) or\n",
        "            water_jug_problem(jug1, amt2) or\n",
        "            water_jug_problem(amt1, jug2) or\n",
        "            water_jug_problem(\n",
        "                amt1 + min(amt2, (jug1 - amt1)),\n",
        "                amt2 - min(amt2, (jug1 - amt1))\n",
        "            ) or\n",
        "            water_jug_problem(\n",
        "                amt1 - min(amt1, (jug2 - amt2)),\n",
        "                amt2 + min(amt1, (jug2 - amt2))\n",
        "            )\n",
        "        )\n",
        "    else:\n",
        "        return False\n",
        "\n",
        "print(\"Steps to reach the solution:\")\n",
        "if not water_jug_problem(0, 0):\n",
        "    print(\"No solution found\")\n"
      ],
      "metadata": {
        "colab": {
          "base_uri": "https://localhost:8080/"
        },
        "id": "X-Gg3s8oq0NX",
        "outputId": "e1f7a1b2-9fa7-413e-fba1-50bffee34df7"
      },
      "execution_count": 8,
      "outputs": [
        {
          "output_type": "stream",
          "name": "stdout",
          "text": [
            "Steps to reach the solution:\n",
            "Current state: (0, 0)\n",
            "Current state: (4, 0)\n",
            "Current state: (4, 3)\n",
            "Current state: (0, 3)\n",
            "Current state: (3, 0)\n",
            "Current state: (3, 3)\n",
            "Current state: (4, 2)\n",
            "Goal state reached: (0, 2)\n"
          ]
        }
      ]
    },
    {
      "cell_type": "markdown",
      "source": [
        "***Basic DFS output***"
      ],
      "metadata": {
        "id": "iKRZhJ0DxLK-"
      }
    },
    {
      "cell_type": "code",
      "source": [
        "graph = {\n",
        "    '5' : ['3','7'],\n",
        "    '3' : ['2','4'],\n",
        "    '7' : ['8'],\n",
        "    '2' : [],\n",
        "    '4' : ['8'],\n",
        "    '8' : []\n",
        "}\n",
        "\n",
        "def dfs_postorder_iterative(graph, start_node):\n",
        "    visited = set()\n",
        "    stack = [start_node]\n",
        "    output_stack = []  # to store nodes in postorder\n",
        "\n",
        "    while stack:\n",
        "        node = stack.pop()\n",
        "        if node not in visited:\n",
        "            visited.add(node)\n",
        "            output_stack.append(node)\n",
        "            # Add neighbors as-is (not reversed)\n",
        "            stack.extend(graph[node])\n",
        "\n",
        "    # The output_stack has nodes in reverse postorder, so reverse it\n",
        "    while output_stack:\n",
        "        print(output_stack.pop())\n",
        "\n",
        "print(\"Following is the Depth-First Search (Postorder, Iterative):\")\n",
        "dfs_postorder_iterative(graph, '5')\n"
      ],
      "metadata": {
        "colab": {
          "base_uri": "https://localhost:8080/"
        },
        "id": "9kY8o3GvxL-m",
        "outputId": "36ea8cd7-46d1-43d8-9d7e-7e0d33683719"
      },
      "execution_count": 13,
      "outputs": [
        {
          "output_type": "stream",
          "name": "stdout",
          "text": [
            "Following is the Depth-First Search (Postorder, Iterative):\n",
            "2\n",
            "4\n",
            "3\n",
            "8\n",
            "7\n",
            "5\n"
          ]
        }
      ]
    },
    {
      "cell_type": "markdown",
      "source": [
        "***Water jug problem***"
      ],
      "metadata": {
        "id": "DUSUFAWfyfHH"
      }
    },
    {
      "cell_type": "markdown",
      "source": [
        "you are given 2 water jugs .jug A has capacity of littre and jug B has capacity of 4 littres. your goal is to measure exactly 2 littres in jug A only"
      ],
      "metadata": {
        "id": "Va36LG5nxXZG"
      }
    },
    {
      "cell_type": "code",
      "source": [
        "from collections import defaultdict\n",
        "\n",
        "jug1, jug2, target = 7, 4, 2  # Updated jug capacities and target\n",
        "\n",
        "visited = defaultdict(lambda: False)\n",
        "\n",
        "def water_jug_problem(amt1, amt2):\n",
        "    \"\"\"\n",
        "    Recursive function to solve the water jug problem using DFS with backtrack\n",
        "    \"\"\"\n",
        "    # Check goal state: exactly target liters in jug1 and jug2 empty\n",
        "    if amt1 == target and amt2 == 0:\n",
        "        print(f\"Goal state reached: ({amt1}, {amt2})\")\n",
        "        return True\n",
        "\n",
        "    if not visited[(amt1, amt2)]:\n",
        "        print(f\"Current state: ({amt1}, {amt2})\")\n",
        "        visited[(amt1, amt2)] = True\n",
        "\n",
        "        return (\n",
        "            water_jug_problem(0, amt2) or  # Empty jug1\n",
        "            water_jug_problem(amt1, 0) or  # Empty jug2\n",
        "            water_jug_problem(jug1, amt2) or  # Fill jug1 completely\n",
        "            water_jug_problem(amt1, jug2) or  # Fill jug2 completely\n",
        "            # Pour jug2 -> jug1\n",
        "            water_jug_problem(\n",
        "                amt1 + min(amt2, (jug1 - amt1)),\n",
        "                amt2 - min(amt2, (jug1 - amt1))\n",
        "            ) or\n",
        "            # Pour jug1 -> jug2\n",
        "            water_jug_problem(\n",
        "                amt1 - min(amt1, (jug2 - amt2)),\n",
        "                amt2 + min(amt1, (jug2 - amt2))\n",
        "            )\n",
        "        )\n",
        "    else:\n",
        "        return False\n",
        "\n",
        "print(\"Steps to reach the solution:\")\n",
        "if not water_jug_problem(0, 0):\n",
        "    print(\"No solution found\")\n"
      ],
      "metadata": {
        "colab": {
          "base_uri": "https://localhost:8080/"
        },
        "id": "YvtVM18OxrQ2",
        "outputId": "c9510098-512c-4447-ade4-e816bd1b0377"
      },
      "execution_count": 11,
      "outputs": [
        {
          "output_type": "stream",
          "name": "stdout",
          "text": [
            "Steps to reach the solution:\n",
            "Current state: (0, 0)\n",
            "Current state: (7, 0)\n",
            "Current state: (7, 4)\n",
            "Current state: (0, 4)\n",
            "Current state: (4, 0)\n",
            "Current state: (4, 4)\n",
            "Current state: (7, 1)\n",
            "Current state: (0, 1)\n",
            "Current state: (1, 0)\n",
            "Current state: (1, 4)\n",
            "Current state: (5, 0)\n",
            "Current state: (5, 4)\n",
            "Current state: (7, 2)\n",
            "Current state: (0, 2)\n",
            "Goal state reached: (2, 0)\n"
          ]
        }
      ]
    }
  ]
}