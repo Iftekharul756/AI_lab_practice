{
  "nbformat": 4,
  "nbformat_minor": 0,
  "metadata": {
    "colab": {
      "provenance": [],
      "authorship_tag": "ABX9TyOnOkBXfKYkMrHcMI0+Cd/x",
      "include_colab_link": true
    },
    "kernelspec": {
      "name": "python3",
      "display_name": "Python 3"
    },
    "language_info": {
      "name": "python"
    }
  },
  "cells": [
    {
      "cell_type": "markdown",
      "metadata": {
        "id": "view-in-github",
        "colab_type": "text"
      },
      "source": [
        "<a href=\"https://colab.research.google.com/github/Iftekharul756/AI_lab_practice/blob/main/AI_Week_3_6095.ipynb\" target=\"_parent\"><img src=\"https://colab.research.google.com/assets/colab-badge.svg\" alt=\"Open In Colab\"/></a>"
      ]
    },
    {
      "cell_type": "markdown",
      "source": [
        "(***DFS*** + Water Jug Problem)"
      ],
      "metadata": {
        "id": "h4KQnRiCiWnx"
      }
    },
    {
      "cell_type": "markdown",
      "source": [
        "**Depth : left -> right -> root**\n",
        "Firdt check left side then right side."
      ],
      "metadata": {
        "id": "EZiimuxPkWaR"
      }
    }
  ]
}